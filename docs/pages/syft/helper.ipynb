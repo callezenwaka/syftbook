{
 "cells": [
  {
   "cell_type": "markdown",
   "metadata": {},
   "source": [
    "# Helper Funcion"
   ]
  },
  {
   "cell_type": "code",
   "execution_count": null,
   "metadata": {},
   "outputs": [],
   "source": [
    "# use helper function\n",
    "import sys\n",
    "sys.path.append('../module/')\n",
    "\n",
    "from helper_functions import add_numbers, calculate_average\n",
    "\n",
    "numbers = [10, 20, 30]\n",
    "average = calculate_average(numbers)\n",
    "print(f\"The average is {average}.\")\n",
    "\n",
    "# Example usage\n",
    "a = 5\n",
    "b = 7\n",
    "result = add_numbers(a, b)\n",
    "\n",
    "print(f\"The sum of {a} and {b} is {result}.\")\n"
   ]
  }
 ],
 "metadata": {
  "kernelspec": {
   "display_name": "Python 3",
   "language": "python",
   "name": "python3"
  },
  "language_info": {
   "name": "python",
   "version": "3.10.11"
  }
 },
 "nbformat": 4,
 "nbformat_minor": 2
}
