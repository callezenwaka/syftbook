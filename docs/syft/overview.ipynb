{
 "cells": [
  {
   "cell_type": "markdown",
   "metadata": {},
   "source": [
    "# Syft Overview"
   ]
  },
  {
   "cell_type": "markdown",
   "metadata": {},
   "source": [
    "<h1><center>Syft Overview </h1></center>\n",
    "<b> PySyft (v0.8.2): Data Scientist Documentation Notebook 1 </b>\n",
    "\n",
    "<img src=\"../_images/title_syft_light.png\"></img>\n",
    "\n",
    "\n",
    "Welcome!\n",
    "PySyft is an <a href=\"https://github.com/openmined/pysyft\">open source library </a> that lets you perform data science on data that is located on someone else's server.\n",
    "\n",
    "Whether you're a data scientist, machine learning engineer, or looking to audit a large language model (LLM) or its training data, PySyft empowers you to perform your analyses on sensitive data without compromising privacy, security or intellectual property. \n",
    "\n",
    "There are public and private entities that succesfully deployed PySyft and enabled external researchers to analyse and learn from private datasets/models. The most recent precedent on advancing algorithmic transparency using PETs is <a href=\"https://www.christchurchcall.com/media-and-resources/news-and-updates/christchurch-call-initiative-on-algorithmic-outcomes/\"> Christchurch Call Initiative on Algorithmic Outcomes (CCIAO) </a>, where multiple external researchers conducted projects on internal production algorithms at Microsoft and DailyMotion using PySyft. A similar project was run in collaboration with  <a href=\"https://blog.openmined.org/announcing-our-partnership-with-twitter-to-advance-algorithmic-transparency/\">Twitter</a>. Additionally,  through the <a href=\"https://www.economist.com/science-and-technology/the-un-is-testing-technology-that-processes-data-confidentially/21807385\">UN PET Lab</a>, multiple national statistics offices around the world are piloting PySyft to enable secure external acess to internal data, but also to enable regional or international collaboration on matters that require joint data access and analysis.\n",
    "\n",
    "This notebook is the first of many, and will cover the following:\n",
    "- Motivating Problems\n",
    "- PySyft\n",
    "    - Mailbox for Code\n",
    "    - Tailored API proposal platform\n",
    "- Levels\n",
    "- Installation\n",
    "- Deployment\n",
    "    \n",
    "    \n",
    "The following notebook will pick up from there, and will teach you how to inspect datasets on the domain node, and create code requests.\n",
    "\n",
    "<hr>"
   ]
  },
  {
   "cell_type": "code",
   "execution_count": null,
   "metadata": {},
   "outputs": [],
   "source": [
    "from matplotlib import rcParams, cycler\n",
    "import matplotlib.pyplot as plt\n",
    "import numpy as np\n",
    "plt.ion()"
   ]
  },
  {
   "cell_type": "code",
   "execution_count": null,
   "metadata": {},
   "outputs": [],
   "source": [
    "# Fixing random state for reproducibility\n",
    "np.random.seed(19680801)\n",
    "\n",
    "N = 10\n",
    "data = [np.logspace(0, 1, 100) + np.random.randn(100) + ii for ii in range(N)]\n",
    "data = np.array(data).T\n",
    "cmap = plt.cm.coolwarm\n",
    "rcParams['axes.prop_cycle'] = cycler(color=cmap(np.linspace(0, 1, N)))\n",
    "\n",
    "\n",
    "from matplotlib.lines import Line2D\n",
    "custom_lines = [Line2D([0], [0], color=cmap(0.), lw=4),\n",
    "                Line2D([0], [0], color=cmap(.5), lw=4),\n",
    "                Line2D([0], [0], color=cmap(1.), lw=4)]\n",
    "\n",
    "fig, ax = plt.subplots(figsize=(10, 5))\n",
    "lines = ax.plot(data)\n",
    "ax.legend(custom_lines, ['Cold', 'Medium', 'Hot']);"
   ]
  },
  {
   "cell_type": "markdown",
   "metadata": {},
   "source": [
    "There is a lot more that you can do with outputs (such as including interactive outputs)\n",
    "with your book. For more information about this, see [the Jupyter Book documentation](https://jupyterbook.org)"
   ]
  },
  {
   "cell_type": "markdown",
   "metadata": {},
   "source": [
    "# Helper Funcion"
   ]
  },
  {
   "cell_type": "code",
   "execution_count": null,
   "metadata": {},
   "outputs": [],
   "source": [
    "# use helper function\n",
    "import sys\n",
    "sys.path.append('../module/')\n",
    "\n",
    "from helper_functions import add_numbers, calculate_average\n",
    "\n",
    "numbers = [10, 20, 30]\n",
    "average = calculate_average(numbers)\n",
    "print(f\"The average is {average}.\")\n",
    "\n",
    "# Example usage\n",
    "a = 5\n",
    "b = 7\n",
    "result = add_numbers(a, b)\n",
    "\n",
    "print(f\"The sum of {a} and {b} is {result}.\")\n"
   ]
  }
 ],
 "metadata": {
  "kernelspec": {
   "display_name": "Python 3",
   "language": "python",
   "name": "python3"
  },
  "language_info": {
   "codemirror_mode": {
    "name": "ipython",
    "version": 3
   },
   "file_extension": ".py",
   "mimetype": "text/x-python",
   "name": "python",
   "nbconvert_exporter": "python",
   "pygments_lexer": "ipython3",
   "version": "3.8.0"
  },
  "widgets": {
   "application/vnd.jupyter.widget-state+json": {
    "state": {},
    "version_major": 2,
    "version_minor": 0
   }
  }
 },
 "nbformat": 4,
 "nbformat_minor": 4
}
