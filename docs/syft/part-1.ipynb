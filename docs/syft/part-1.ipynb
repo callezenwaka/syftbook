{
 "cells": [
  {
   "cell_type": "markdown",
   "id": "c3ef3b1e-ea90-4638-9255-a757f9ec427b",
   "metadata": {},
   "source": [
    "<hr>\n",
    "<hr>\n",
    ">> Scratch Notes\n",
    "\n",
    "TODO:\n",
    "- Clarify Syft vs PySyft terminology\n",
    "- Fix broken links to sections in Table of Contents\n",
    "- Add links to next notebook?\n",
    "- Ask Irina/Andrew to review which links/projects to highlight\n",
    "- Links for XChurch:\n",
    "    - https://www.amcham.co.nz/Latest-News/12928098, \n",
    "    - https://www.christchurchcall.com/media-and-resources/news-and-updates/,\n",
    "    - https://unstats.un.org/wiki/display/UGTTOPPT/14.+Twitter+and+OpenMined%3A+Enabling+Third-party+Audits+and+Research+Reproducibility+over+Unreleased+Digital+Assets, \n",
    "    - https://blogs.microsoft.com/on-the-issues/2022/09/20/christchurch-call-responsible-ai-online-extremism/\n",
    "- Ask if we still want to link to GitHub ReadMe as installation instructions\n",
    "    - Since Docs are version specific and ReadMe only points to most recent version, might be a bad idea unless we link to OpenMined/PySyft/0.8.x in an automated fashion, etc\n",
    "    - However This would help centralize all instructions and create a ground source of truth\n",
    "- Figure out how to setup Google Colab 1 click deploy\n",
    "- Add link to GitHub or somewhere showing current OS support status?\n",
    "\n",
    "\n",
    "IDEAS:\n",
    "- Add notebook before this one as \"Our Vision\" or something of that sort?\n",
    "\n",
    "\n",
    "\n",
    "Contents:\n",
    "- Intro: PySyft as a mailbox for code\n",
    "    - **Emphasize:** access 100-1000x more data across every scientific field\n",
    "    - Depending on how they've setup their mailbox, you may get your results back immediately, or after a code review.\n",
    "- Quickstart:\n",
    "    - Installation steps \n",
    "        - Link to GitHub Readme?\n",
    "        - Python, Virtualenvironments, etc?\n",
    "    - Syft in 10 minutes Example?\n",
    "\n",
    "\n",
    "Irina Proposed contents:\n",
    "\n",
    "- How PySyft facilitates collaboration brief summary\n",
    "- Quickstart -> link to colab env\n",
    "- Install steps for all platforms separate even if repetitive\n",
    "- Resources for installing Python3.9+ for older OS versions.\n",
    "- Creating a venv using domain’s libs versions\n",
    "- Connecting to a domain and using the Python API\n",
    "\n",
    "<hr>\n",
    "<hr>"
   ]
  },
  {
   "cell_type": "markdown",
   "id": "c8ba7061-3d1f-4f09-9e60-3ad66b932347",
   "metadata": {},
   "source": [
    "<h1><center> Getting Started: Data Science with PySyft! </h1></center>\n",
    "<b> PySyft (v0.8.2): Data Scientist Documentation Notebook 1 </b>\n",
    "\n",
    "<img src=\"../_images/title_syft_light.png\"></img>\n",
    "\n",
    "\n",
    "Welcome!\n",
    "PySyft is an <a href=\"https://github.com/openmined/pysyft\">open source library </a> that lets you perform data science on data that is located on someone else's server.\n",
    "\n",
    "Whether you're a data scientist, machine learning engineer, or looking to audit a large language model (LLM) or its training data, PySyft empowers you to perform your analyses on sensitive data without compromising privacy or security.\n",
    "\n",
    "It has already been used in notable projects such as <a href=\"https://blog.openmined.org/announcing-our-partnership-with-twitter-to-advance-algorithmic-transparency/\"> Twitter's work on algorithmic transparency </a>, the Christchurch Call to combat extremist content [TO DO: FIND LINKS] , as well as collaborations with the United Nations [FIND LINK] and so on.\n",
    "\n",
    "This notebook is the first of many, and will cover the following:\n",
    "- Introduction\n",
    "    - PySyft as a mailbox for Code\n",
    "    - Steps for using PySyft\n",
    "- Quickstart: Setting up and Installation\n",
    "    - PySyft with one click: Google Colab\n",
    "    - Installation\n",
    "        - Python\n",
    "        - Virtual Environments\n",
    "    - Connecting to a Domain Node\n",
    "    \n",
    "    \n",
    "The following notebook will pick up from there, and will teach you how to inspect datasets on the domain node, and create code requests.\n",
    "\n",
    "<hr>"
   ]
  },
  {
   "cell_type": "markdown",
   "id": "f59ed833-05d4-4909-87ed-82938b864545",
   "metadata": {},
   "source": [
    "# Introduction\n",
    "\n",
    "\n",
    "## PySyft: Mailbox for Code\n",
    "What _is_ PySyft?\n",
    "\n",
    "The easiest way to understand PySyft is to think of it as a mailbox for code. PySyft is a framework that allows a data scientist to submit their analysis code to a data owner. \n",
    "\n",
    "Data Owners, who have large amounts of private data, as well as the infrastructure to work with it, can then assess the submitted code for privacy, security, IP and legal adherence, and if they approve it, can execute it within their own controlled environment. This ensures that sensitive data remains protected and isolated while generating valuable insights. After analysis, the Data Owner securely shares the results back with the data scientist through PySyft.\n",
    "\n",
    "This can scale quite well:\n",
    "\n",
    "- A single data scientist can submit the same piece of code to several data owners.\n",
    "    - For example, think of each data owner representing all the data owned by a hopsital about a particular type of cancer. The data scientist could then train their ML model on cancer data that's stored in hospitals in various countries all over the world, while not requiring any of them to publicly disclose any information.\n",
    "- A data scientist can also ask for the same piece of code to be run multiple times against a single data owner's data.\n",
    "    - Imagine if the data scientist is trying to train a neural network on a data owner's data, and needs to train for multiple epochs on a single dataset.\n",
    "    \n",
    "## Working with PySyft\n",
    "\n",
    "Working with PySyft is quite simple, and for a Data Scientist, usually involves the following steps:\n",
    "\n",
    "- Find a Domain Node with data you want to work on\n",
    "- Create an Account or Login to that Domain Node\n",
    "- Inspect the Datasets on that domain node\n",
    "- Create some analysis you'd like to run on the data\n",
    "    - You can use any Python library you're already familiar with- NumPy, PyTorch, JAX, and so on!\n",
    "- Submit your code to the domain node\n",
    "\n",
    "... and after that, you'd either get the result of your analysis back, or you'd get feedback from the data owner about any RunTime Errors or other feedback they have for you. Simple as that!\n",
    "\n",
    "<hr>"
   ]
  },
  {
   "cell_type": "markdown",
   "id": "60fe42bd-1a38-49c7-90cf-3fc4b28f68e0",
   "metadata": {},
   "source": [
    "# Installation\n",
    "\n",
    "Before you can start using PySyft, you have to install it. This is fairly straightforward, and we have cross platform support across Linux, MacOS, and Windows! [TODO: Add link to GitHub showing current support status?]\n",
    "\n",
    "**Before we begin:** \n",
    "- This version of PySyft (0.8.2) requries Python 3.9-3.11. Steps on how to install Python can be found here at the Official Python documentation website [here.](https://wiki.python.org/moin/BeginnersGuide/Download)\n",
    "- Before installing Syft, it would be helpful to have a VirtualEnvironment in order to isolate the Syft library and its dependencies from other parts of your system. A helpful primer on Virtual Environments can be found [here](https://realpython.com/python-virtual-environments-a-primer/).\n",
    "\n",
    "\n",
    "Once you have that out of the way, Syft can be installed in one line using `pip`. Simply run this on your Terminal:"
   ]
  },
  {
   "cell_type": "raw",
   "id": "4d9beb15-26dc-486a-a12a-a974d7434638",
   "metadata": {},
   "source": [
    "# pip install syft"
   ]
  },
  {
   "cell_type": "markdown",
   "id": "50fc84ff-ebda-4de8-ba0e-66b42676b960",
   "metadata": {},
   "source": [
    "To install a specific version, simply modify this as follows:"
   ]
  },
  {
   "cell_type": "raw",
   "id": "0ec2239b-4449-4893-b6f6-387e8b9fdbe8",
   "metadata": {},
   "source": [
    "# pip install syft==0.8.0"
   ]
  },
  {
   "cell_type": "markdown",
   "id": "d3fd6c21-6674-4698-9980-7113bd60fbd6",
   "metadata": {},
   "source": [
    "You can then import syft freely using:"
   ]
  },
  {
   "cell_type": "code",
   "execution_count": 1,
   "id": "e9f727d7-d4b8-4c08-9740-8753d3b968b0",
   "metadata": {},
   "outputs": [],
   "source": [
    "import syft"
   ]
  },
  {
   "cell_type": "markdown",
   "id": "e45ddc5b-6ef9-4f9a-bd57-b8c4a1613051",
   "metadata": {},
   "source": [
    "For simplicity, we often `import syft as sy`. \n",
    "Let's check our syft version:"
   ]
  },
  {
   "cell_type": "code",
   "execution_count": 2,
   "id": "7c609dc3-1693-4f3f-a1c2-f00c0ef0e520",
   "metadata": {},
   "outputs": [
    {
     "data": {
      "text/plain": [
       "'0.8.2-beta.47'"
      ]
     },
     "execution_count": 2,
     "metadata": {},
     "output_type": "execute_result"
    }
   ],
   "source": [
    "syft.__version__"
   ]
  },
  {
   "cell_type": "markdown",
   "id": "51024326-1f94-4c4b-882f-4158bc4c67b7",
   "metadata": {},
   "source": [
    "At the moment, Syft does not have backwards compatibility with older versions (0.8.0 isn't backwards compatible with 0.7.0, for example.)\n",
    "\n",
    "<hr>"
   ]
  },
  {
   "cell_type": "markdown",
   "id": "3c654ce8-bb56-4126-8063-9bf71155061d",
   "metadata": {},
   "source": [
    "# Connecting to a Domain Node\n",
    "\n",
    "Once you have PySyft installed, the next step is to log in to a **domain node**. Domain nodes are deployed by data owners who want to allow data scientists to access their data for analyses. They are essential components of PySyft, allowing you to interact with remote datasets in a secure manner.\n",
    "\n",
    "So let's say a domain node has been launched via the following commands:"
   ]
  },
  {
   "cell_type": "raw",
   "id": "6128079d-68e8-4282-a7c6-2514c166ed3b",
   "metadata": {},
   "source": [
    "node = syft.orchestra.launch(name=\"private-datasets-example-domain-1\", port=8062, reset=True)"
   ]
  },
  {
   "cell_type": "code",
   "execution_count": 3,
   "id": "947a9f8d-b582-4aa2-967f-ad0ed93a5e46",
   "metadata": {},
   "outputs": [
    {
     "name": "stdout",
     "output_type": "stream",
     "text": [
      "Starting private-datasets-cancer server on 0.0.0.0:8062\n",
      "Waiting for server to start.. Done.\n"
     ]
    }
   ],
   "source": [
    "node = syft.orchestra.launch(name=\"private-datasets-cancer\", port=8062)"
   ]
  },
  {
   "cell_type": "code",
   "execution_count": 4,
   "id": "3e9561d7-6490-4e8f-8c6c-b5e9d9187ba3",
   "metadata": {},
   "outputs": [
    {
     "name": "stdout",
     "output_type": "stream",
     "text": [
      "Logged into <private-datasets-cancer: High-side Domain> as GUEST\n",
      "Logged into <private-datasets-cancer: High side Domain> as <info@openmined.org>\n"
     ]
    },
    {
     "data": {
      "text/html": [
       "<div class=\"alert-warning\" style=\"padding:5px;\"><strong>SyftWarning</strong>: You are using a default password. Please change the password using `[your_client].me.set_password([new_password])`.</div><br />"
      ],
      "text/plain": [
       "SyftWarning: You are using a default password. Please change the password using `[your_client].me.set_password([new_password])`."
      ]
     },
     "metadata": {},
     "output_type": "display_data"
    }
   ],
   "source": [
    "data_owner_client = node.login(email=\"info@openmined.org\", password=\"changethis\")"
   ]
  },
  {
   "cell_type": "markdown",
   "id": "f20bfac0-bdd2-4c33-a26c-921ff6602e8b",
   "metadata": {},
   "source": [
    "At this point, the Data Owner has launched their domain node. Let's say they create an account for you with the following credentials:"
   ]
  },
  {
   "cell_type": "code",
   "execution_count": 5,
   "id": "e4535ecd-0406-4194-aba4-8534929b33b2",
   "metadata": {},
   "outputs": [
    {
     "data": {
      "text/html": [
       "<div class=\"alert-success\" style=\"padding:5px;\"><strong>SyftSuccess</strong>: User 'Jane Doe' successfully registered! To see users, run `[your_client].users`</div><br />"
      ],
      "text/plain": [
       "SyftSuccess: User 'Jane Doe' successfully registered! To see users, run `[your_client].users`"
      ]
     },
     "execution_count": 5,
     "metadata": {},
     "output_type": "execute_result"
    }
   ],
   "source": [
    "data_owner_client.register(\n",
    "    name=\"Jane Doe\", \n",
    "    email=\"jane@caltech.edu\",\n",
    "    password=\"abc123\",\n",
    "    password_verify=\"abc123\"\n",
    ")"
   ]
  },
  {
   "cell_type": "markdown",
   "id": "a0ac1677-ba39-48ae-8659-0171eede3e70",
   "metadata": {},
   "source": [
    "For you to login to the domain node is then as straightforward as entering your email and password:"
   ]
  },
  {
   "cell_type": "code",
   "execution_count": 6,
   "id": "6ab4706a-7de8-4e73-b6ae-7664b3642518",
   "metadata": {},
   "outputs": [
    {
     "name": "stdout",
     "output_type": "stream",
     "text": [
      "Logged into <private-datasets-cancer: High-side Domain> as GUEST\n",
      "Logged into <private-datasets-cancer: High side Domain> as <jane@caltech.edu>\n"
     ]
    }
   ],
   "source": [
    "guest_client = node.client.login(email=\"jane@caltech.edu\", password=\"abc123\")"
   ]
  },
  {
   "cell_type": "markdown",
   "id": "1dfb5bcc-5c15-482d-a531-4736d885caf5",
   "metadata": {},
   "source": [
    "... And we're in!\n",
    "\n",
    "<hr>\n",
    "\n",
    "That concludes this first notebook. In our next one, we'll see how to inspect and use the datasets on this domain node.\n",
    "\n",
    "See you there!"
   ]
  }
 ],
 "metadata": {
  "kernelspec": {
   "display_name": "Python 3 (ipykernel)",
   "language": "python",
   "name": "python3"
  },
  "language_info": {
   "codemirror_mode": {
    "name": "ipython",
    "version": 3
   },
   "file_extension": ".py",
   "mimetype": "text/x-python",
   "name": "python",
   "nbconvert_exporter": "python",
   "pygments_lexer": "ipython3",
   "version": "3.11.3"
  }
 },
 "nbformat": 4,
 "nbformat_minor": 5
}
