{
 "cells": [
  {
   "cell_type": "markdown",
   "metadata": {
    "id": "RvwFrkzSPbw7"
   },
   "source": [
    "# Pandas\n",
    "\n",
    "In this lesson we will learn the basics of data manipulation using the Pandas library. "
   ]
  },
  {
   "cell_type": "markdown",
   "metadata": {
    "id": "ta6CPC-QT-K_"
   },
   "source": [
    "# Set up"
   ]
  },
  {
   "cell_type": "code",
   "execution_count": null,
   "metadata": {
    "id": "6nwDfMoNT-Qa"
   },
   "outputs": [],
   "source": [
    "import numpy as np\n",
    "import pandas as pd"
   ]
  },
  {
   "cell_type": "code",
   "execution_count": null,
   "metadata": {
    "id": "VfKDIcxXT-TJ"
   },
   "outputs": [],
   "source": [
    "# Set seed for reproducibility\n",
    "np.random.seed(seed=1234)"
   ]
  },
  {
   "cell_type": "markdown",
   "metadata": {
    "id": "TL4rwLUSW9hV"
   },
   "source": [
    "# Load data"
   ]
  },
  {
   "cell_type": "markdown",
   "metadata": {
    "id": "4EOXMnGHiLxM"
   },
   "source": [
    "We're going to work with the [Titanic dataset](https://www.kaggle.com/c/titanic/data) which has data on the people who embarked the RMS Titanic in 1912 and whether they survived the expedition or not. It's a very common and rich dataset which makes it very apt for exploratory data analysis with Pandas.\n",
    "\n",
    "Let's load the data from the CSV file into a Pandas dataframe. The `header=0` signifies that the first row (0th index) is a header row which contains the names of each column in our dataset."
   ]
  },
  {
   "cell_type": "markdown",
   "metadata": {
    "id": "qhYyM3iGRZ8W"
   },
   "source": [
    "These are the different features: \n",
    "* `class`: class of travel\n",
    "* `name`: full name of the passenger\n",
    "* `sex`: gender\n",
    "* `age`: numerical age\n",
    "* `sibsp`: # of siblings/spouse aboard\n",
    "* `parch`: number of parents/child aboard\n",
    "* `ticket`: ticket number\n",
    "* `fare`: cost of the ticket\n",
    "* `cabin`: location of room\n",
    "* `emarked`: port that the passenger embarked at (C - Cherbourg, S - Southampton, Q - Queenstown)\n",
    "* `survived`: survial metric (0 - died, 1 - survived)"
   ]
  },
  {
   "cell_type": "markdown",
   "metadata": {
    "id": "NBx5VP8K_y6N"
   },
   "source": [
    "# Exploratory data analysis (EDA)\n",
    "\n",
    "Now that we loaded our data, we're ready to start exploring it to find interesting information.\n",
    "\n",
    "> Be sure to check out our entire lesson devoted to [EDA](https://madewithml.com/courses/mlops/exploratory-data-analysis/) in our [mlops](https://madewithml.com/#mlops) course."
   ]
  },
  {
   "cell_type": "code",
   "execution_count": null,
   "metadata": {
    "id": "c4_qAEVI0lpe"
   },
   "outputs": [],
   "source": [
    "import matplotlib.pyplot as plt"
   ]
  },
  {
   "cell_type": "markdown",
   "metadata": {
    "id": "z1Dn2ZTHWUKo"
   },
   "source": [
    "We can use `.describe()` to extract some standard details about our numerical features. "
   ]
  },
  {
   "cell_type": "markdown",
   "metadata": {
    "id": "oRaXx2KeWgT3"
   },
   "source": [
    "We can also use `.hist()` to view the histrogram of values for each feature."
   ]
  },
  {
   "cell_type": "markdown",
   "metadata": {
    "id": "mmcNMYhnXsxC"
   },
   "source": [
    "# Indexing"
   ]
  },
  {
   "cell_type": "markdown",
   "metadata": {
    "id": "-XJK5O95a5OF"
   },
   "source": [
    "We can use `iloc` to get rows or columns at particular positions in the dataframe."
   ]
  },
  {
   "cell_type": "markdown",
   "metadata": {
    "id": "uSezrq4vEFYh"
   },
   "source": [
    "# Preprocessing"
   ]
  },
  {
   "cell_type": "markdown",
   "metadata": {
    "id": "F14RY0N7a_25"
   },
   "source": [
    "After exploring, we can clean and preprocess our dataset.\n",
    "\n",
    "> Be sure to check out our entire lesson focused on [preprocessing](https://madewithml.com/courses/mlops/preprocessing/) in our [mlops](https://madewithml.com/#mlops) course."
   ]
  },
  {
   "cell_type": "markdown",
   "metadata": {
    "id": "ZaVqjpsCEtft"
   },
   "source": [
    "# Feature engineering"
   ]
  },
  {
   "cell_type": "markdown",
   "metadata": {
    "id": "Dgb4InI0bcN9"
   },
   "source": [
    "We're now going to use feature engineering to create a column called `family_size`. We'll first define a function called `get_family_size` that will determine the family size using the number of parents and siblings. "
   ]
  },
  {
   "cell_type": "markdown",
   "metadata": {
    "id": "FCXPqemgbo3H"
   },
   "source": [
    "Once we define the function, we can use `lambda` to `apply` that function on each row (using the numbers of siblings and parents in each row to determine the family size for each row)."
   ]
  },
  {
   "cell_type": "markdown",
   "metadata": {
    "id": "N_rwgfrFGTne"
   },
   "source": [
    "# Save data"
   ]
  },
  {
   "cell_type": "markdown",
   "metadata": {
    "id": "OExbbyancIk4"
   },
   "source": [
    "Finally, let's save our preprocessed data into a new CSV file to use later."
   ]
  }
 ],
 "metadata": {
  "colab": {
   "collapsed_sections": [],
   "name": "04_Pandas",
   "provenance": [
    {
     "file_id": "https://github.com/GokuMohandas/MadeWithML/blob/main/notebooks/04_Pandas.ipynb",
     "timestamp": 1607977127419
    },
    {
     "file_id": "https://github.com/GokuMohandas/MadeWithML/blob/main/notebooks/04_Pandas.ipynb",
     "timestamp": 1582566205979
    }
   ],
   "toc_visible": true
  },
  "kernelspec": {
   "display_name": "Python 3",
   "name": "python3"
  }
 },
 "nbformat": 4,
 "nbformat_minor": 0
}
