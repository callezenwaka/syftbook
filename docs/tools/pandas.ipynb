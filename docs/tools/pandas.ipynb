{
 "cells": [
  {
   "cell_type": "markdown",
   "metadata": {
    "id": "RvwFrkzSPbw7"
   },
   "source": [
    "# Pandas\n",
    "\n",
    "In this lesson we will learn the basics of data manipulation using the Pandas library. "
   ]
  },
  {
   "cell_type": "markdown",
   "metadata": {
    "id": "ta6CPC-QT-K_"
   },
   "source": [
    "# Set up"
   ]
  },
  {
   "cell_type": "code",
   "execution_count": null,
   "metadata": {
    "id": "6nwDfMoNT-Qa"
   },
   "outputs": [],
   "source": [
    "import numpy as np\n",
    "import pandas as pd"
   ]
  },
  {
   "cell_type": "code",
   "execution_count": null,
   "metadata": {
    "id": "VfKDIcxXT-TJ"
   },
   "outputs": [],
   "source": [
    "# Set seed for reproducibility\n",
    "np.random.seed(seed=1234)"
   ]
  },
  {
   "cell_type": "markdown",
   "metadata": {
    "id": "TL4rwLUSW9hV"
   },
   "source": [
    "# Load data"
   ]
  },
  {
   "cell_type": "markdown",
   "metadata": {
    "id": "4EOXMnGHiLxM"
   },
   "source": [
    "We're going to work with the [Titanic dataset](https://www.kaggle.com/c/titanic/data) which has data on the people who embarked the RMS Titanic in 1912 and whether they survived the expedition or not. It's a very common and rich dataset which makes it very apt for exploratory data analysis with Pandas.\n",
    "\n",
    "Let's load the data from the CSV file into a Pandas dataframe. The `header=0` signifies that the first row (0th index) is a header row which contains the names of each column in our dataset."
   ]
  },
  {
   "cell_type": "code",
   "execution_count": null,
   "metadata": {
    "id": "ywaEF_0aQ023"
   },
   "outputs": [],
   "source": [
    "# Read from CSV to Pandas DataFrame\n",
    "url = \"https://raw.githubusercontent.com/GokuMohandas/MadeWithML/main/datasets/titanic.csv\"\n",
    "df = pd.read_csv(url, header=0)"
   ]
  },
  {
   "cell_type": "code",
   "execution_count": null,
   "metadata": {
    "colab": {
     "base_uri": "https://localhost:8080/",
     "height": 204
    },
    "executionInfo": {
     "elapsed": 959,
     "status": "ok",
     "timestamp": 1608041637306,
     "user": {
      "displayName": "Goku Mohandas",
      "photoUrl": "https://lh3.googleusercontent.com/a-/AOh14GjMIOf3R_zwS_zZx4ZyPMtQe0lOkGpPOEUEKWpM7g=s64",
      "userId": "00378334517810298963"
     },
     "user_tz": 420
    },
    "id": "J79FUzZWQ-kx",
    "outputId": "74d81a76-9d01-4ab3-b631-90476802f19a"
   },
   "outputs": [],
   "source": [
    "# First five items\n",
    "df.head()"
   ]
  },
  {
   "cell_type": "markdown",
   "metadata": {
    "id": "qhYyM3iGRZ8W"
   },
   "source": [
    "These are the different features: \n",
    "* `class`: class of travel\n",
    "* `name`: full name of the passenger\n",
    "* `sex`: gender\n",
    "* `age`: numerical age\n",
    "* `sibsp`: # of siblings/spouse aboard\n",
    "* `parch`: number of parents/child aboard\n",
    "* `ticket`: ticket number\n",
    "* `fare`: cost of the ticket\n",
    "* `cabin`: location of room\n",
    "* `emarked`: port that the passenger embarked at (C - Cherbourg, S - Southampton, Q - Queenstown)\n",
    "* `survived`: survial metric (0 - died, 1 - survived)"
   ]
  },
  {
   "cell_type": "markdown",
   "metadata": {
    "id": "NBx5VP8K_y6N"
   },
   "source": [
    "# Exploratory data analysis (EDA)\n",
    "\n",
    "Now that we loaded our data, we're ready to start exploring it to find interesting information.\n",
    "\n",
    "> Be sure to check out our entire lesson devoted to [EDA](https://madewithml.com/courses/mlops/exploratory-data-analysis/) in our [mlops](https://madewithml.com/#mlops) course."
   ]
  },
  {
   "cell_type": "code",
   "execution_count": null,
   "metadata": {
    "id": "c4_qAEVI0lpe"
   },
   "outputs": [],
   "source": [
    "import matplotlib.pyplot as plt"
   ]
  },
  {
   "cell_type": "markdown",
   "metadata": {
    "id": "z1Dn2ZTHWUKo"
   },
   "source": [
    "We can use `.describe()` to extract some standard details about our numerical features. "
   ]
  },
  {
   "cell_type": "code",
   "execution_count": null,
   "metadata": {
    "colab": {
     "base_uri": "https://localhost:8080/",
     "height": 297
    },
    "id": "thR28yTmASRr",
    "outputId": "3863b800-6d83-4472-a200-88750bc94d44"
   },
   "outputs": [],
   "source": [
    "# Describe features\n",
    "df.describe()"
   ]
  },
  {
   "cell_type": "code",
   "execution_count": null,
   "metadata": {
    "colab": {
     "base_uri": "https://localhost:8080/",
     "height": 261
    },
    "id": "8KXH6dmb0iY6",
    "outputId": "7c48a1ec-f546-4d96-ffb4-3e27eeb67647"
   },
   "outputs": [],
   "source": [
    "# Correlation matrix\n",
    "plt.matshow(df.corr())\n",
    "continuous_features = df.describe().columns\n",
    "plt.xticks(range(len(continuous_features)), continuous_features, rotation='45')\n",
    "plt.yticks(range(len(continuous_features)), continuous_features, rotation='45')\n",
    "plt.colorbar()\n",
    "plt.show()"
   ]
  },
  {
   "cell_type": "markdown",
   "metadata": {
    "id": "oRaXx2KeWgT3"
   },
   "source": [
    "We can also use `.hist()` to view the histrogram of values for each feature."
   ]
  },
  {
   "cell_type": "code",
   "execution_count": null,
   "metadata": {
    "colab": {
     "base_uri": "https://localhost:8080/",
     "height": 282
    },
    "id": "Mn5HqS3XmzJs",
    "outputId": "fc0f691c-39d6-476d-defd-0679fe1f5da0"
   },
   "outputs": [],
   "source": [
    "# Histograms\n",
    "df['age'].hist()"
   ]
  },
  {
   "cell_type": "code",
   "execution_count": null,
   "metadata": {
    "colab": {
     "base_uri": "https://localhost:8080/",
     "height": 34
    },
    "id": "7illbHR1nLEF",
    "outputId": "9fa4c46f-9e9f-4aa6-a33c-67098f9b8f15"
   },
   "outputs": [],
   "source": [
    "# Unique values\n",
    "df['embarked'].unique()"
   ]
  },
  {
   "cell_type": "markdown",
   "metadata": {
    "id": "WPQ_JS0RXkRc"
   },
   "source": [
    "# Filtering"
   ]
  },
  {
   "cell_type": "code",
   "execution_count": null,
   "metadata": {
    "colab": {
     "base_uri": "https://localhost:8080/",
     "height": 119
    },
    "id": "BG1IMeV_hrqV",
    "outputId": "89ba573a-4e47-4ff1-8040-54e21319f0fc"
   },
   "outputs": [],
   "source": [
    "# Selecting data by feature\n",
    "df['name'].head()"
   ]
  },
  {
   "cell_type": "code",
   "execution_count": null,
   "metadata": {
    "colab": {
     "base_uri": "https://localhost:8080/",
     "height": 204
    },
    "id": "wPrRGLDtiZSp",
    "outputId": "58049932-1350-4176-8191-c5f15f840fa8"
   },
   "outputs": [],
   "source": [
    "# Filtering\n",
    "df[df['sex']=='female'].head() # only the female data appear"
   ]
  },
  {
   "cell_type": "markdown",
   "metadata": {
    "id": "7lYWUAcxXp0Q"
   },
   "source": [
    "# Sorting"
   ]
  },
  {
   "cell_type": "code",
   "execution_count": null,
   "metadata": {
    "colab": {
     "base_uri": "https://localhost:8080/",
     "height": 204
    },
    "id": "FOuLeYIojMMH",
    "outputId": "63667b76-73a7-4b39-9c7c-8125ad5c30cb"
   },
   "outputs": [],
   "source": [
    "# Sorting\n",
    "df.sort_values('age', ascending=False).head()"
   ]
  },
  {
   "cell_type": "markdown",
   "metadata": {
    "id": "VWxbfIZnXrM4"
   },
   "source": [
    "# Grouping"
   ]
  },
  {
   "cell_type": "code",
   "execution_count": null,
   "metadata": {
    "colab": {
     "base_uri": "https://localhost:8080/",
     "height": 142
    },
    "id": "v0TCbtSMjMO5",
    "outputId": "d8893ddc-aa50-4b3c-f240-33a8bc16c6c8"
   },
   "outputs": [],
   "source": [
    "# Grouping\n",
    "survived_group = df.groupby('survived')\n",
    "survived_group.mean()"
   ]
  },
  {
   "cell_type": "markdown",
   "metadata": {
    "id": "mmcNMYhnXsxC"
   },
   "source": [
    "# Indexing"
   ]
  },
  {
   "cell_type": "markdown",
   "metadata": {
    "id": "-XJK5O95a5OF"
   },
   "source": [
    "We can use `iloc` to get rows or columns at particular positions in the dataframe."
   ]
  },
  {
   "cell_type": "code",
   "execution_count": null,
   "metadata": {
    "colab": {
     "base_uri": "https://localhost:8080/",
     "height": 221
    },
    "id": "34LmckWDhdSA",
    "outputId": "bf3a6150-f278-4bd1-c19d-d8779d6bf800"
   },
   "outputs": [],
   "source": [
    "# Selecting row 0\n",
    "df.iloc[0, :] "
   ]
  },
  {
   "cell_type": "code",
   "execution_count": null,
   "metadata": {
    "colab": {
     "base_uri": "https://localhost:8080/",
     "height": 34
    },
    "id": "QrdXeuRdFkXB",
    "outputId": "c9fd52c1-6e18-4a9b-ed1e-d659340e6aef"
   },
   "outputs": [],
   "source": [
    "# Selecting a specific value\n",
    "df.iloc[0, 1]"
   ]
  },
  {
   "cell_type": "markdown",
   "metadata": {
    "id": "uSezrq4vEFYh"
   },
   "source": [
    "# Preprocessing"
   ]
  },
  {
   "cell_type": "markdown",
   "metadata": {
    "id": "F14RY0N7a_25"
   },
   "source": [
    "After exploring, we can clean and preprocess our dataset.\n",
    "\n",
    "> Be sure to check out our entire lesson focused on [preprocessing](https://madewithml.com/courses/mlops/preprocessing/) in our [mlops](https://madewithml.com/#mlops) course."
   ]
  },
  {
   "cell_type": "code",
   "execution_count": null,
   "metadata": {
    "colab": {
     "base_uri": "https://localhost:8080/",
     "height": 204
    },
    "id": "EZ1pCKHIjMUY",
    "outputId": "48e3b36b-719b-4ad3-a5ec-5968b04f9976"
   },
   "outputs": [],
   "source": [
    "# Rows with at least one NaN value\n",
    "df[pd.isnull(df).any(axis=1)].head()"
   ]
  },
  {
   "cell_type": "code",
   "execution_count": null,
   "metadata": {
    "colab": {
     "base_uri": "https://localhost:8080/",
     "height": 204
    },
    "id": "zUaiFplEkmoB",
    "outputId": "647d5b7a-0455-4aac-dffc-8c65b20f93b3"
   },
   "outputs": [],
   "source": [
    "# Drop rows with Nan values\n",
    "df = df.dropna() # removes rows with any NaN values\n",
    "df = df.reset_index() # reset's row indexes in case any rows were dropped\n",
    "df.head()"
   ]
  },
  {
   "cell_type": "code",
   "execution_count": null,
   "metadata": {
    "colab": {
     "base_uri": "https://localhost:8080/",
     "height": 204
    },
    "id": "ubujZv_8qG-d",
    "outputId": "c269b74b-acb9-4cc7-dc1c-6ad012a4e899"
   },
   "outputs": [],
   "source": [
    "# Dropping multiple columns\n",
    "df = df.drop(['name', 'cabin', 'ticket'], axis=1) # we won't use text features for our initial basic models\n",
    "df.head()"
   ]
  },
  {
   "cell_type": "code",
   "execution_count": null,
   "metadata": {
    "colab": {
     "base_uri": "https://localhost:8080/",
     "height": 204
    },
    "id": "8m117GcVnon9",
    "outputId": "1244fad0-46e8-442c-b47b-13ba7d206d44"
   },
   "outputs": [],
   "source": [
    "# Map feature values\n",
    "df['sex'] = df['sex'].map( {'female': 0, 'male': 1} ).astype(int)\n",
    "df['embarked'] = df['embarked'].dropna().map( {'S':0, 'C':1, 'Q':2} ).astype(int)\n",
    "df.head()"
   ]
  },
  {
   "cell_type": "markdown",
   "metadata": {
    "id": "ZaVqjpsCEtft"
   },
   "source": [
    "# Feature engineering"
   ]
  },
  {
   "cell_type": "markdown",
   "metadata": {
    "id": "Dgb4InI0bcN9"
   },
   "source": [
    "We're now going to use feature engineering to create a column called `family_size`. We'll first define a function called `get_family_size` that will determine the family size using the number of parents and siblings. "
   ]
  },
  {
   "cell_type": "code",
   "execution_count": null,
   "metadata": {
    "id": "_FPtk5tpqrDI"
   },
   "outputs": [],
   "source": [
    "# Lambda expressions to create new features\n",
    "def get_family_size(sibsp, parch):\n",
    "    family_size = sibsp + parch\n",
    "    return family_size"
   ]
  },
  {
   "cell_type": "markdown",
   "metadata": {
    "id": "FCXPqemgbo3H"
   },
   "source": [
    "Once we define the function, we can use `lambda` to `apply` that function on each row (using the numbers of siblings and parents in each row to determine the family size for each row)."
   ]
  },
  {
   "cell_type": "code",
   "execution_count": null,
   "metadata": {
    "colab": {
     "base_uri": "https://localhost:8080/",
     "height": 204
    },
    "id": "f_Xf97AjlM6s",
    "outputId": "09559817-40d0-4f4d-f046-1cbe6134518a"
   },
   "outputs": [],
   "source": [
    "df[\"family_size\"] = df[[\"sibsp\", \"parch\"]].apply(lambda x: get_family_size(x[\"sibsp\"], x[\"parch\"]), axis=1)\n",
    "df.head()"
   ]
  },
  {
   "cell_type": "code",
   "execution_count": null,
   "metadata": {
    "colab": {
     "base_uri": "https://localhost:8080/",
     "height": 204
    },
    "id": "JK3FqfjnpSNi",
    "outputId": "efc2e913-053e-4b54-924c-793286de1f92"
   },
   "outputs": [],
   "source": [
    "# Reorganize headers\n",
    "df = df[['pclass', 'sex', 'age', 'sibsp', 'parch', 'family_size', 'fare', 'embarked', 'survived']]\n",
    "df.head()"
   ]
  },
  {
   "cell_type": "markdown",
   "metadata": {
    "id": "N_rwgfrFGTne"
   },
   "source": [
    "# Save data"
   ]
  },
  {
   "cell_type": "markdown",
   "metadata": {
    "id": "OExbbyancIk4"
   },
   "source": [
    "Finally, let's save our preprocessed data into a new CSV file to use later."
   ]
  },
  {
   "cell_type": "code",
   "execution_count": null,
   "metadata": {
    "id": "rNNxA7Vrp2fC"
   },
   "outputs": [],
   "source": [
    "# Saving dataframe to CSV\n",
    "df.to_csv('processed_titanic.csv', index=False)"
   ]
  },
  {
   "cell_type": "code",
   "execution_count": null,
   "metadata": {
    "colab": {
     "base_uri": "https://localhost:8080/",
     "height": 85
    },
    "id": "gfc7Epp7sgqz",
    "outputId": "50ee3ac9-4422-4471-c053-1a86b5600828"
   },
   "outputs": [],
   "source": [
    "# See the saved file\n",
    "!ls -l"
   ]
  }
 ],
 "metadata": {
  "colab": {
   "collapsed_sections": [],
   "name": "04_Pandas",
   "provenance": [
    {
     "file_id": "https://github.com/GokuMohandas/MadeWithML/blob/main/notebooks/04_Pandas.ipynb",
     "timestamp": 1607977127419
    },
    {
     "file_id": "https://github.com/GokuMohandas/MadeWithML/blob/main/notebooks/04_Pandas.ipynb",
     "timestamp": 1582566205979
    }
   ],
   "toc_visible": true
  },
  "kernelspec": {
   "display_name": "Python 3",
   "name": "python3"
  }
 },
 "nbformat": 4,
 "nbformat_minor": 0
}
