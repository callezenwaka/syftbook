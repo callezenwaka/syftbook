{
 "cells": [
  {
   "cell_type": "markdown",
   "metadata": {
    "id": "pY8iWjayaC22"
   },
   "source": [
    "# Introduction to Python\n",
    "\n",
    "In this lessons, we'll learn about the basics of Python programmming. "
   ]
  },
  {
   "cell_type": "markdown",
   "metadata": {
    "id": "gN-UI0ZUd0Xt"
   },
   "source": [
    "<!-- <div align=\"left\">\n",
    "<a target=\"_blank\" href=\"https://madewithml.com/courses/foundations/python/\"><img src=\"https://img.shields.io/badge/📖 Read-blog post-9cf\"></a>&nbsp;\n",
    "<a href=\"https://github.com/GokuMohandas/MadeWithML/blob/main/notebooks/02_Python.ipynb\" role=\"button\"><img src=\"https://img.shields.io/static/v1?label=&amp;message=View%20On%20GitHub&amp;color=586069&amp;logo=github&amp;labelColor=2f363d\"></a>&nbsp;\n",
    "<a href=\"https://colab.research.google.com/github/GokuMohandas/MadeWithML/blob/main/notebooks/02_Python.ipynb\"><img src=\"https://colab.research.google.com/assets/colab-badge.svg\" alt=\"Open In Colab\"></a>\n",
    "</div> -->"
   ]
  },
  {
   "cell_type": "markdown",
   "metadata": {
    "id": "VoMq0eFRvugb"
   },
   "source": [
    "#  Variables"
   ]
  },
  {
   "cell_type": "markdown",
   "metadata": {
    "id": "qWro5T5qTJJL"
   },
   "source": [
    "Variables are containers for holding data and they're defined by a name and value.\n",
    "\n",
    "<div align=\"left\">\n",
    "<img src=\"https://raw.githubusercontent.com/GokuMohandas/MadeWithML/main/images/foundations/python/variables.png\" width=\"220\">\n",
    "</div>"
   ]
  },
  {
   "cell_type": "code",
   "execution_count": null,
   "metadata": {
    "colab": {
     "base_uri": "https://localhost:8080/"
    },
    "id": "0-dXQiLlTIgz",
    "outputId": "a442b3e3-86e2-4328-b212-b61f7167be19"
   },
   "outputs": [],
   "source": [
    "# Integer variable\n",
    "x = 5\n",
    "print (x)\n",
    "print (type(x))\n"
   ]
  },
  {
   "cell_type": "markdown",
   "metadata": {
    "id": "LDAdgPSCyMbN"
   },
   "source": [
    "We can change the value of a variable by simply assigning a new value to it."
   ]
  },
  {
   "cell_type": "code",
   "execution_count": null,
   "metadata": {
    "colab": {
     "base_uri": "https://localhost:8080/"
    },
    "id": "5Ym0owFxTkjo",
    "outputId": "850eb0fd-6700-42a1-8087-920a7f68f8a6"
   },
   "outputs": [],
   "source": [
    "# String variable\n",
    "x = \"hello\"\n",
    "print (x)\n",
    "print (type(x))"
   ]
  },
  {
   "cell_type": "markdown",
   "metadata": {
    "id": "Lsq_c_AhEzZN"
   },
   "source": [
    "There are many different types of variables: integers, floats, strings, boolean etc."
   ]
  },
  {
   "cell_type": "code",
   "execution_count": null,
   "metadata": {
    "colab": {
     "base_uri": "https://localhost:8080/"
    },
    "id": "m4kAmbD9EzHz",
    "outputId": "aad7af89-2397-4968-c9aa-456587691b6d"
   },
   "outputs": [],
   "source": [
    "# int variable\n",
    "x = 5\n",
    "print (x, type(x))"
   ]
  },
  {
   "cell_type": "code",
   "execution_count": null,
   "metadata": {
    "colab": {
     "base_uri": "https://localhost:8080/"
    },
    "id": "gb9BzIoOEy6A",
    "outputId": "1bf6df26-ca01-41e0-800c-a3f6e833fe9a"
   },
   "outputs": [],
   "source": [
    "# float variable\n",
    "x = 5.0\n",
    "print (x, type(x))"
   ]
  },
  {
   "cell_type": "code",
   "execution_count": null,
   "metadata": {
    "colab": {
     "base_uri": "https://localhost:8080/"
    },
    "id": "RkqP-eraEytN",
    "outputId": "d38eeca5-d2b5-46f4-c506-e4de78b529f6"
   },
   "outputs": [],
   "source": [
    "# text variable\n",
    "x = \"5\" \n",
    "print (x, type(x))"
   ]
  },
  {
   "cell_type": "code",
   "execution_count": null,
   "metadata": {
    "colab": {
     "base_uri": "https://localhost:8080/"
    },
    "id": "ws4HSsJpEyfL",
    "outputId": "c9e11f18-d979-4ab5-9c20-b58e1bd2e439"
   },
   "outputs": [],
   "source": [
    "# boolean variable\n",
    "x = True\n",
    "print (x, type(x))"
   ]
  },
  {
   "cell_type": "markdown",
   "metadata": {
    "id": "EWOmrbiDybhF"
   },
   "source": [
    "We can also do operations with variables."
   ]
  },
  {
   "cell_type": "code",
   "execution_count": null,
   "metadata": {
    "colab": {
     "base_uri": "https://localhost:8080/"
    },
    "id": "1a4ZhMV1T1-0",
    "outputId": "99e2f78b-79b1-4793-e153-8fbbfb316362"
   },
   "outputs": [],
   "source": [
    "# Variables can be used with each other\n",
    "a = 1\n",
    "b = 2\n",
    "c = a + b\n",
    "print (c)"
   ]
  },
  {
   "cell_type": "markdown",
   "metadata": {
    "id": "6HPtavfdU8Ut"
   },
   "source": [
    "We should always know what types of variables we're dealing with so we can do the right operations with them. Here's a common mistake that can happen if we're using the wrong variable type."
   ]
  },
  {
   "cell_type": "code",
   "execution_count": null,
   "metadata": {
    "colab": {
     "base_uri": "https://localhost:8080/"
    },
    "id": "8pr1-i7IVD-h",
    "outputId": "aec92c75-17e8-4b63-aa5c-1185ee515c1b"
   },
   "outputs": [],
   "source": [
    "# int variables\n",
    "a = 5\n",
    "b = 3\n",
    "print (a + b)"
   ]
  },
  {
   "cell_type": "code",
   "execution_count": null,
   "metadata": {
    "colab": {
     "base_uri": "https://localhost:8080/"
    },
    "id": "A9u0Mtke5xkk",
    "outputId": "378e4bdb-05af-4612-b4d9-64aba08a13bf"
   },
   "outputs": [],
   "source": [
    "# string variables\n",
    "a = \"5\"\n",
    "b = \"3\"\n",
    "print (a + b)"
   ]
  },
  {
   "cell_type": "markdown",
   "metadata": {
    "id": "q4R_UF6PVw4V"
   },
   "source": [
    "#  Lists"
   ]
  },
  {
   "cell_type": "markdown",
   "metadata": {
    "id": "LvGsQBj4VjMl"
   },
   "source": [
    "Lists are an ordered, mutable (changeable) collection of values that are *comma separated* and enclosed by *square brackets*. A list can be comprised of many different types of variables (below is a list with an integer, string and a float)."
   ]
  },
  {
   "cell_type": "code",
   "execution_count": null,
   "metadata": {
    "colab": {
     "base_uri": "https://localhost:8080/"
    },
    "id": "9iPESkq9VvlX",
    "outputId": "90a76b58-d1ed-413e-ec07-1520102e4d19"
   },
   "outputs": [],
   "source": [
    "# Creating a list\n",
    "x = [3, \"hello\", 1.2]\n",
    "print (x)"
   ]
  },
  {
   "cell_type": "code",
   "execution_count": null,
   "metadata": {
    "colab": {
     "base_uri": "https://localhost:8080/"
    },
    "id": "esDwOfutKtBf",
    "outputId": "193be420-f634-4ab3-caef-dff538cf8a73"
   },
   "outputs": [],
   "source": [
    "# Length of a list\n",
    "len(x)"
   ]
  },
  {
   "cell_type": "markdown",
   "metadata": {
    "id": "0xC6WvuwbGDg"
   },
   "source": [
    "You can add to a list by using the **append** function."
   ]
  },
  {
   "cell_type": "code",
   "execution_count": null,
   "metadata": {
    "colab": {
     "base_uri": "https://localhost:8080/"
    },
    "id": "7lbajc-zV515",
    "outputId": "9014c8b6-fcf5-4cff-d401-db8b81e49be4"
   },
   "outputs": [],
   "source": [
    "# Adding to a list\n",
    "x.append(7)\n",
    "print (x)\n",
    "print (len(x))"
   ]
  },
  {
   "cell_type": "code",
   "execution_count": null,
   "metadata": {
    "colab": {
     "base_uri": "https://localhost:8080/"
    },
    "id": "TjVjmiSIK1YA",
    "outputId": "18436f6f-3f7b-4855-b12d-a428cfd3e883"
   },
   "outputs": [],
   "source": [
    "# Replacing items in a list\n",
    "x[1] = \"bye\"\n",
    "print (x)"
   ]
  },
  {
   "cell_type": "code",
   "execution_count": null,
   "metadata": {
    "colab": {
     "base_uri": "https://localhost:8080/"
    },
    "id": "tNLaysG6K6E9",
    "outputId": "6690d3a1-11de-4296-c3f5-6b4f18bfe6ff"
   },
   "outputs": [],
   "source": [
    "# Operations\n",
    "y = [2.4, \"world\"]\n",
    "z = x + y\n",
    "print (z)"
   ]
  },
  {
   "cell_type": "markdown",
   "metadata": {
    "id": "M7mQpE7dtpX6"
   },
   "source": [
    "# Indexing and Slicing"
   ]
  },
  {
   "cell_type": "markdown",
   "metadata": {
    "id": "wJqJM2Q13TwE"
   },
   "source": [
    "Indexing and slicing from lists allow us to retrieve specific values within lists. Note that indices can be positive (starting from 0) or negative (-1 and lower, where -1 is the last item in the list).\n",
    "\n",
    "<div align=\"left\">\n",
    "<img src=\"https://raw.githubusercontent.com/GokuMohandas/MadeWithML/main/images/foundations/python/indexing.png\" width=\"300\">\n",
    "</div>"
   ]
  },
  {
   "cell_type": "code",
   "execution_count": null,
   "metadata": {
    "colab": {
     "base_uri": "https://localhost:8080/"
    },
    "id": "W0xpIryJWCN9",
    "outputId": "9c829bac-17e0-4e96-decb-053e73759ee7"
   },
   "outputs": [],
   "source": [
    "# Indexing\n",
    "x = [3, \"hello\", 1.2]\n",
    "print (\"x[0]: \", x[0])\n",
    "print (\"x[1]: \", x[1])\n",
    "print (\"x[-1]: \", x[-1]) # the last item\n",
    "print (\"x[-2]: \", x[-2]) # the second to last item"
   ]
  },
  {
   "cell_type": "code",
   "execution_count": null,
   "metadata": {
    "colab": {
     "base_uri": "https://localhost:8080/"
    },
    "id": "VSu_HNrnc1WK",
    "outputId": "4f709a62-e4da-4a6a-c0d0-f27a2ed2e834"
   },
   "outputs": [],
   "source": [
    "# Slicing\n",
    "print (\"x[:]: \", x[:]) # all indices\n",
    "print (\"x[1:]: \", x[1:]) # index 1 to the end of the list\n",
    "print (\"x[1:2]: \", x[1:2]) # index 1 to index 2 (not including index 2)\n",
    "print (\"x[:-1]: \", x[:-1]) # index 0 to last index (not including last index)"
   ]
  },
  {
   "cell_type": "markdown",
   "metadata": {
    "id": "ddpIO6LLVzh0"
   },
   "source": [
    "# Tuples"
   ]
  },
  {
   "cell_type": "markdown",
   "metadata": {
    "id": "CAZblq7oXY3s"
   },
   "source": [
    "Tuples are collections that are ordered and immutable (unchangeable). You will use these to store values that will never be changed."
   ]
  },
  {
   "cell_type": "code",
   "execution_count": null,
   "metadata": {
    "colab": {
     "base_uri": "https://localhost:8080/"
    },
    "id": "G95lu8xWXY90",
    "outputId": "ac6a5fb2-d052-42fc-e70c-0bd375f3bc80"
   },
   "outputs": [],
   "source": [
    "# Creating a tuple\n",
    "x = (3.0, \"hello\") # tuples start and end with ()\n",
    "print (x)"
   ]
  },
  {
   "cell_type": "code",
   "execution_count": null,
   "metadata": {
    "colab": {
     "base_uri": "https://localhost:8080/"
    },
    "id": "kq23Bej1acAP",
    "outputId": "f632c8ea-c60e-4602-fc51-9ab8bb8ff210"
   },
   "outputs": [],
   "source": [
    "# Adding values to a tuple\n",
    "x = x + (5.6, 4)\n",
    "print (x)"
   ]
  },
  {
   "cell_type": "code",
   "execution_count": null,
   "metadata": {
    "id": "-o-tW98FLffc"
   },
   "outputs": [],
   "source": [
    "# Try to change (it won't work and you'll get an error)\n",
    "# x[0] = 1.2"
   ]
  },
  {
   "cell_type": "markdown",
   "metadata": {
    "id": "UdlJHkwZV3Mz"
   },
   "source": [
    "# Dictionaries"
   ]
  },
  {
   "cell_type": "markdown",
   "metadata": {
    "id": "azp3AoxYXS26"
   },
   "source": [
    "Dictionaries are an unordered, mutable and indexed collection of key-value pairs. You can retrieve values based on the key and a dictionary cannot have two of the same keys. \n",
    "\n",
    "<div align=\"left\">\n",
    "<img src=\"https://raw.githubusercontent.com/GokuMohandas/MadeWithML/main/images/foundations/python/dictionaries.png\" width=\"320\">\n",
    "</div>"
   ]
  },
  {
   "cell_type": "code",
   "execution_count": null,
   "metadata": {
    "colab": {
     "base_uri": "https://localhost:8080/"
    },
    "id": "pXhNLbzpXXSk",
    "outputId": "3026289c-8b82-4a6c-98c5-5e768cc9f8f4"
   },
   "outputs": [],
   "source": [
    "# Creating a dictionary\n",
    "person = {'name': 'Goku',\n",
    "          'eye_color': 'brown'}\n",
    "print (person)\n",
    "print (person['name'])\n",
    "print (person['eye_color'])"
   ]
  },
  {
   "cell_type": "code",
   "execution_count": null,
   "metadata": {
    "colab": {
     "base_uri": "https://localhost:8080/"
    },
    "id": "1HXtX8vQYjXa",
    "outputId": "c7c7596e-3f69-415f-ad3f-307aa03103da"
   },
   "outputs": [],
   "source": [
    "# Changing the value for a key\n",
    "person['eye_color'] = 'green'\n",
    "print (person)"
   ]
  },
  {
   "cell_type": "code",
   "execution_count": null,
   "metadata": {
    "colab": {
     "base_uri": "https://localhost:8080/"
    },
    "id": "qn33iB0MY5dT",
    "outputId": "90e146e0-7e77-4a39-803e-1248bb567bb3"
   },
   "outputs": [],
   "source": [
    "# Adding new key-value pairs\n",
    "person['age'] = 24\n",
    "print (person)"
   ]
  },
  {
   "cell_type": "code",
   "execution_count": null,
   "metadata": {
    "colab": {
     "base_uri": "https://localhost:8080/"
    },
    "id": "g9EYmzMKa9YV",
    "outputId": "a60ba8db-d25c-4452-9051-fa2ea7fb4ac6"
   },
   "outputs": [],
   "source": [
    "# Length of a dictionary\n",
    "print (len(person))"
   ]
  },
  {
   "cell_type": "markdown",
   "metadata": {
    "id": "B-DInx_Xo2vJ"
   },
   "source": [
    "# If statements"
   ]
  },
  {
   "cell_type": "markdown",
   "metadata": {
    "id": "ZG_ICGRGo4tY"
   },
   "source": [
    "We can use `if` statements to conditionally do something. The conditions are defined by the words `if`, `elif` (which stands for else if) and `else`. We can have as many `elif` statements as we want. The indented code below each condition is the code that will execute if the condition is `True`."
   ]
  },
  {
   "cell_type": "code",
   "execution_count": null,
   "metadata": {
    "colab": {
     "base_uri": "https://localhost:8080/"
    },
    "id": "uob9lQuKo4Pg",
    "outputId": "66adff4a-b673-4b62-fe77-698f6c61baa5"
   },
   "outputs": [],
   "source": [
    "# If statement\n",
    "x = 4\n",
    "if x < 1:\n",
    "    score = 'low'\n",
    "elif x <= 4: # elif = else if\n",
    "    score = 'medium'\n",
    "else:\n",
    "    score = 'high'\n",
    "print (score)"
   ]
  },
  {
   "cell_type": "code",
   "execution_count": null,
   "metadata": {
    "colab": {
     "base_uri": "https://localhost:8080/"
    },
    "id": "vwsQaZqIpfJ3",
    "outputId": "dffe699e-0bb6-4e9c-9f67-0f7342100ae9"
   },
   "outputs": [],
   "source": [
    "# If statement with a boolean\n",
    "x = True\n",
    "if x:\n",
    "    print (\"it worked\")"
   ]
  },
  {
   "cell_type": "markdown",
   "metadata": {
    "id": "sJ7NPGEKV6Ik"
   },
   "source": [
    "# Loops"
   ]
  },
  {
   "cell_type": "markdown",
   "metadata": {
    "id": "cRgqRyfITuEC"
   },
   "source": [
    "## For Loops"
   ]
  },
  {
   "cell_type": "markdown",
   "metadata": {
    "id": "YRVxhVCkn0vc"
   },
   "source": [
    "A `for` loop can iterate over a collection of values (lists, tuples, dictionaries, etc.) The indented code is executed for each item in the collection of values."
   ]
  },
  {
   "cell_type": "code",
   "execution_count": null,
   "metadata": {
    "colab": {
     "base_uri": "https://localhost:8080/"
    },
    "id": "OB5PtyqAn8mj",
    "outputId": "c4c87da2-896a-4dcf-b5b6-db63b540bade"
   },
   "outputs": [],
   "source": [
    "# For loop\n",
    "veggies = [\"carrots\", \"broccoli\", \"beans\"]\n",
    "for veggie in veggies:\n",
    "    print (veggie)"
   ]
  },
  {
   "cell_type": "markdown",
   "metadata": {
    "id": "PQc56LtEDuX2"
   },
   "source": [
    "When the loop encounters the `break` command, the loop will terminate immediately. If there were more items in the list, they will not be processed."
   ]
  },
  {
   "cell_type": "code",
   "execution_count": null,
   "metadata": {
    "colab": {
     "base_uri": "https://localhost:8080/"
    },
    "id": "6XyhCrFeoGj4",
    "outputId": "a6589ff6-c2e7-432d-e3a0-faf3e363dcb9"
   },
   "outputs": [],
   "source": [
    "# `break` from a for loop\n",
    "veggies = [\"carrots\", \"broccoli\", \"beans\"]\n",
    "for veggie in veggies:\n",
    "    if veggie == \"broccoli\":\n",
    "        break\n",
    "    print (veggie)"
   ]
  },
  {
   "cell_type": "markdown",
   "metadata": {
    "id": "O_0-vSSuEAqU"
   },
   "source": [
    "When the loop encounters the `continue` command, the loop will skip all other operations for that item in the list only. If there were more items in the list, the loop will continue normally."
   ]
  },
  {
   "cell_type": "code",
   "execution_count": null,
   "metadata": {
    "colab": {
     "base_uri": "https://localhost:8080/"
    },
    "id": "KJvlfYs8QbQZ",
    "outputId": "379ea18f-7732-4496-9c3d-42d1d582eff0"
   },
   "outputs": [],
   "source": [
    "# `continue` to the next iteration\n",
    "veggies = [\"carrots\", \"broccoli\", \"beans\"]\n",
    "for veggie in veggies:\n",
    "    if veggie == \"broccoli\":\n",
    "        continue\n",
    "    print (veggie)"
   ]
  },
  {
   "cell_type": "markdown",
   "metadata": {
    "id": "VAbnASi2TwZ9"
   },
   "source": [
    "## While Loops"
   ]
  },
  {
   "cell_type": "markdown",
   "metadata": {
    "id": "nuHAyQdr_jUa"
   },
   "source": [
    "A `while` loop can perform repeatedly as long as a condition is `True`. We can use `continue` and `break` commands in `while` loops as well."
   ]
  },
  {
   "cell_type": "code",
   "execution_count": null,
   "metadata": {
    "colab": {
     "base_uri": "https://localhost:8080/"
    },
    "id": "5Tf2x4okp3fH",
    "outputId": "22de7e28-74b8-48cb-a5f9-cd5247e776c6"
   },
   "outputs": [],
   "source": [
    "# While loop\n",
    "x = 3\n",
    "while x > 0:\n",
    "    x -= 1 # same as x = x - 1\n",
    "    print (x)"
   ]
  },
  {
   "cell_type": "markdown",
   "metadata": {
    "id": "gJw-EDO9WBL_"
   },
   "source": [
    "# Functions"
   ]
  },
  {
   "cell_type": "markdown",
   "metadata": {
    "id": "hDIOUdWCqBwa"
   },
   "source": [
    "Functions are a way to modularize reusable pieces of code. They're defined by the keyword `def` which stands for definition and they can have the following components.\n",
    "\n",
    "<div align=\"left\">\n",
    "<img src=\"https://raw.githubusercontent.com/GokuMohandas/MadeWithML/main/images/foundations/python/functions.png\" width=\"350\">\n",
    "</div>"
   ]
  },
  {
   "cell_type": "code",
   "execution_count": null,
   "metadata": {
    "id": "iin1ZXmMqA0y"
   },
   "outputs": [],
   "source": [
    "# Define the function\n",
    "def add_two(x):\n",
    "    \"\"\"Increase x by 2.\"\"\" # explains what this function will do\n",
    "    x += 2\n",
    "    return x"
   ]
  },
  {
   "cell_type": "markdown",
   "metadata": {
    "id": "OIf2dJ8RGj8l"
   },
   "source": [
    "Here are the components that may be required when we want to use the function. we need to ensure that the function name and the input parameters match with how we defined the function above.\n",
    "\n",
    "<div align=\"left\">\n",
    "<img src=\"https://raw.githubusercontent.com/GokuMohandas/MadeWithML/main/images/foundations/python/calling_functions.png\" width=\"350\">\n",
    "</div>"
   ]
  },
  {
   "cell_type": "code",
   "execution_count": null,
   "metadata": {
    "colab": {
     "base_uri": "https://localhost:8080/"
    },
    "id": "4ye1A5FobAUd",
    "outputId": "6ea91eb8-3ab3-4d5c-ba7f-988e7a9cba94"
   },
   "outputs": [],
   "source": [
    "# Use the function\n",
    "score = 0\n",
    "new_score = add_two(x=score)\n",
    "print (new_score)"
   ]
  },
  {
   "cell_type": "markdown",
   "metadata": {
    "id": "5kpEiTUZqMax"
   },
   "source": [
    "A function can have as many input parameters and outputs as we want."
   ]
  },
  {
   "cell_type": "code",
   "execution_count": null,
   "metadata": {
    "id": "DC6x3DMrqlE3"
   },
   "outputs": [],
   "source": [
    "# Function with multiple inputs\n",
    "def join_name(first_name, last_name):\n",
    "    \"\"\"Combine first name and last name.\"\"\"\n",
    "    joined_name = first_name + \" \" + last_name\n",
    "    return joined_name"
   ]
  },
  {
   "cell_type": "code",
   "execution_count": null,
   "metadata": {
    "colab": {
     "base_uri": "https://localhost:8080/"
    },
    "id": "ehc8bNoGbBt8",
    "outputId": "4aaab48c-24be-4c5b-cee6-40bbeddfca6c"
   },
   "outputs": [],
   "source": [
    "# Use the function\n",
    "first_name = \"Goku\"\n",
    "last_name = \"Mohandas\"\n",
    "joined_name = join_name(first_name=first_name, \n",
    "                        last_name=last_name)\n",
    "print (joined_name)"
   ]
  },
  {
   "cell_type": "markdown",
   "metadata": {
    "id": "x3_7Qv91Gjua"
   },
   "source": [
    "> It's good practice to always use keyword argument when using a function so that it's very clear what input variable belongs to what function input parameter. On a related note, you will often see the terms `*args` and `**kwargs` which stand for arguments and keyword arguments. You can extract them when they are passed into a function. The significance of the `*` is that any number of arguments and keyword arguments can be passed into the function."
   ]
  },
  {
   "cell_type": "code",
   "execution_count": null,
   "metadata": {
    "id": "XHhaCfFaHSVo"
   },
   "outputs": [],
   "source": [
    "def f(*args, **kwargs):\n",
    "    x = args[0]\n",
    "    y = kwargs.get('y')\n",
    "    print (f\"x: {x}, y: {y}\")"
   ]
  },
  {
   "cell_type": "code",
   "execution_count": null,
   "metadata": {
    "colab": {
     "base_uri": "https://localhost:8080/"
    },
    "id": "ZRB9msy0HmR_",
    "outputId": "981b0659-6da7-4488-bbc7-624c74f71583"
   },
   "outputs": [],
   "source": [
    "f(5, y=2)"
   ]
  },
  {
   "cell_type": "markdown",
   "metadata": {
    "id": "lBLa1n54WEd2"
   },
   "source": [
    "# Classes"
   ]
  },
  {
   "cell_type": "markdown",
   "metadata": {
    "id": "mGua8QnArAZh"
   },
   "source": [
    "Classes are object constructors and are a fundamental component of object oriented programming in Python. They are composed of a set of functions that define the class and it's operations."
   ]
  },
  {
   "cell_type": "markdown",
   "metadata": {
    "id": "CypuBBQyRv8s"
   },
   "source": [
    "## `__init__` function"
   ]
  },
  {
   "cell_type": "markdown",
   "metadata": {
    "id": "Hrx2bKTXR4E3"
   },
   "source": [
    "The `__init__` function is used when an instance of the class is initialized. "
   ]
  },
  {
   "cell_type": "code",
   "execution_count": null,
   "metadata": {
    "id": "DXmPwI1frAAd"
   },
   "outputs": [],
   "source": [
    "# Creating the class\n",
    "class Pet(object):\n",
    "    \"\"\"Class object for a pet.\"\"\"\n",
    "    \n",
    "    def __init__(self, species, name):\n",
    "        \"\"\"Initialize a Pet.\"\"\"\n",
    "        self.species = species\n",
    "        self.name = name"
   ]
  },
  {
   "cell_type": "code",
   "execution_count": null,
   "metadata": {
    "colab": {
     "base_uri": "https://localhost:8080/"
    },
    "id": "j5F4XmFQSfVr",
    "outputId": "27c27725-d6e3-4eb7-8018-d70ee84cdbb8"
   },
   "outputs": [],
   "source": [
    "# Creating an instance of a class\n",
    "my_dog = Pet(species=\"dog\", \n",
    "             name=\"Scooby\")\n",
    "print (my_dog)\n",
    "print (my_dog.name)"
   ]
  },
  {
   "cell_type": "markdown",
   "metadata": {
    "id": "6ZVfBXNISUBR"
   },
   "source": [
    "## `__str__` function"
   ]
  },
  {
   "cell_type": "markdown",
   "metadata": {
    "id": "8q6oiWHQSqOo"
   },
   "source": [
    "The `print (my_dog)` command printed something not so relevant to us. Let's fix that with the `__str__` function."
   ]
  },
  {
   "cell_type": "code",
   "execution_count": null,
   "metadata": {
    "id": "N1_RDVo9Ruhf"
   },
   "outputs": [],
   "source": [
    "# Creating the class\n",
    "class Pet(object):\n",
    "    \"\"\"Class object for a pet.\"\"\"\n",
    "  \n",
    "    def __init__(self, species, name):\n",
    "        \"\"\"Initialize a Pet.\"\"\"\n",
    "        self.species = species\n",
    "        self.name = name\n",
    " \n",
    "    def __str__(self):\n",
    "        \"\"\"Output when printing an instance of a Pet.\"\"\"\n",
    "        return f\"{self.species} named {self.name}\""
   ]
  },
  {
   "cell_type": "code",
   "execution_count": null,
   "metadata": {
    "colab": {
     "base_uri": "https://localhost:8080/"
    },
    "id": "vQeU2yScSkW7",
    "outputId": "6acd6978-d0f2-4661-bfcc-531e98c84ac9"
   },
   "outputs": [],
   "source": [
    "# Creating an instance of a class\n",
    "my_dog = Pet(species=\"dog\", \n",
    "             name=\"Scooby\")\n",
    "print (my_dog)\n",
    "print (my_dog.name)"
   ]
  },
  {
   "cell_type": "markdown",
   "metadata": {
    "id": "luB-RBMXK_rL"
   },
   "source": [
    "> Classes can be customized with **magic** functions like `__init__` and `__str__`, to enable powerful operations. We'll be exploring additional built-in functions in subsequent notebooks (like `__len__`, `__iter__` and `__getitem__`, etc.) but if you're curious, here is a [tutorial](https://rszalski.github.io/magicmethods/) on more magic methods."
   ]
  },
  {
   "cell_type": "markdown",
   "metadata": {
    "id": "LaTaBd8jSYuy"
   },
   "source": [
    "## Object methods"
   ]
  },
  {
   "cell_type": "code",
   "execution_count": null,
   "metadata": {
    "id": "Vz95DOFjSY3s"
   },
   "outputs": [],
   "source": [
    "# Creating the class\n",
    "class Pet(object):\n",
    "    \"\"\"Class object for a pet.\"\"\"\n",
    "  \n",
    "    def __init__(self, species, name):\n",
    "        \"\"\"Initialize a Pet.\"\"\"\n",
    "        self.species = species\n",
    "        self.name = name\n",
    " \n",
    "    def __str__(self):\n",
    "        \"\"\"Output when printing an instance of a Pet.\"\"\"\n",
    "        return f\"{self.species} named {self.name}\"\n",
    "        \n",
    "    def change_name(self, new_name):\n",
    "        \"\"\"Change the name of your Pet.\"\"\"\n",
    "        self.name = new_name"
   ]
  },
  {
   "cell_type": "code",
   "execution_count": null,
   "metadata": {
    "colab": {
     "base_uri": "https://localhost:8080/"
    },
    "id": "ezQq_Fhhrqrv",
    "outputId": "a7fd012b-b036-45f8-8bd0-953d09f5cd63"
   },
   "outputs": [],
   "source": [
    "# Creating an instance of a class\n",
    "my_dog = Pet(species=\"dog\", name=\"Scooby\")\n",
    "print (my_dog)\n",
    "print (my_dog.name)"
   ]
  },
  {
   "cell_type": "code",
   "execution_count": null,
   "metadata": {
    "colab": {
     "base_uri": "https://localhost:8080/"
    },
    "id": "qTinlRj1szc5",
    "outputId": "3933c9ad-6d4d-44c9-8bc3-870808684e88"
   },
   "outputs": [],
   "source": [
    "# Using a class's function\n",
    "my_dog.change_name(new_name=\"Scrappy\")\n",
    "print (my_dog)\n",
    "print (my_dog.name)"
   ]
  }
 ],
 "metadata": {
  "colab": {
   "collapsed_sections": [],
   "name": "02_Python",
   "provenance": [],
   "toc_visible": true
  },
  "kernelspec": {
   "display_name": "Python 3",
   "name": "python3"
  }
 },
 "nbformat": 4,
 "nbformat_minor": 0
}
