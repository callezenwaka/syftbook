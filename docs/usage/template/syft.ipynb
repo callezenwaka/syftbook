{
 "cells": [
  {
   "cell_type": "markdown",
   "id": "3e12430c",
   "metadata": {},
   "source": [
    "# Try Syft\n",
    "\n",
    "## Overview\n",
    "This is some sample text.\n",
    "\n",
    "- [Overview of Colaboratory](/notebooks/basic_features_overview.ipynb)\n",
    "- [Guide to Markdown](/notebooks/markdown_guide.ipynb)\n",
    "- [Importing libraries and installing dependencies](/notebooks/snippets/importing_libraries.ipynb)\n",
    "- [Saving and loading notebooks in GitHub](https://colab.research.google.com/github/googlecolab/colabtools/blob/main/notebooks/colab-github-demo.ipynb)\n",
    "- [Interactive forms](/notebooks/forms.ipynb)\n",
    "- [Interactive widgets](/notebooks/widgets.ipynb)"
   ]
  },
  {
   "cell_type": "code",
   "execution_count": null,
   "id": "37659395-55ad-448d-9b7d-1f9ba1629d1b",
   "metadata": {},
   "outputs": [],
   "source": [
    "import syft as sy\n",
    "from syft.service.dataset.dataset import Contributor\n",
    "import pandas as pd\n",
    "import numpy as np"
   ]
  },
  {
   "cell_type": "code",
   "execution_count": null,
   "id": "ff135f83-6e4b-4c83-8f6d-fbd9cdf5812b",
   "metadata": {},
   "outputs": [],
   "source": [
    "node = sy.orchestra.launch(name=\"theme-data-example-domain-1\", dev_mode=True, port=8040, reset=True)"
   ]
  },
  {
   "cell_type": "code",
   "execution_count": null,
   "id": "b4ab34f8-7d83-48c2-8e93-8b21fb2021a1",
   "metadata": {},
   "outputs": [],
   "source": [
    "node_1 = node.login(email=\"info@openmined.org\", password=\"changethis\")"
   ]
  },
  {
   "cell_type": "code",
   "execution_count": null,
   "id": "00eb192a-4357-4d62-8fff-cfa802a70655",
   "metadata": {},
   "outputs": [],
   "source": [
    "contributor1 = Contributor(name='Ionesio Junior',email='ionesiojr@gmail.com')\n",
    "contributor2 = Contributor(name='Andrew Trask',email='trask@gmail.com')\n",
    "contributor3 = Contributor(name='Madhava Jay',email='madhava@gmail.com')"
   ]
  },
  {
   "cell_type": "markdown",
   "id": "0b994409",
   "metadata": {},
   "source": [
    "## Dataset"
   ]
  },
  {
   "cell_type": "code",
   "execution_count": null,
   "id": "ab847ad8-d5c9-4f61-b3d9-b31c9f302ff2",
   "metadata": {},
   "outputs": [],
   "source": [
    "countries = [\"France\", \"US\", \"Canada\", \"Brazil\", \"Germany\", \"UK\", \"Spain\", \"Nigeria\", \"Italy\"];"
   ]
  },
  {
   "cell_type": "code",
   "execution_count": null,
   "id": "4d08cf9b-d749-4c35-892a-4e4397ebdc6d",
   "metadata": {},
   "outputs": [],
   "source": [
    "for country in countries:\n",
    "    dataset = sy.Dataset(\n",
    "        name=country + \" Dataset\",\n",
    "        asset_list=[\n",
    "            sy.Asset(\n",
    "                name=\"Features\",\n",
    "                data=pd.DataFrame([1, 2, 3]),\n",
    "                mock=pd.DataFrame([1, 1, 1])\n",
    "            ),\n",
    "            sy.Asset(\n",
    "                name='Labels',\n",
    "                data=np.array([1, 2, 3]),\n",
    "                mock=np.array([1, 1, 1])\n",
    "            )\n",
    "        ],\n",
    "        tags=['Computer Vision', 'Numpy', country, 'OpenMined'],\n",
    "        contributors=[ contributor1, contributor2]\n",
    "    )\n",
    "    node_1.upload_dataset(dataset)"
   ]
  },
  {
   "cell_type": "code",
   "execution_count": null,
   "id": "c656270c-6442-4e0c-acc6-d9367746a658",
   "metadata": {},
   "outputs": [],
   "source": [
    "node_1.datasets"
   ]
  }
 ],
 "metadata": {
  "kernelspec": {
   "display_name": "Python 3 (ipykernel)",
   "language": "python",
   "name": "python3"
  },
  "language_info": {
   "codemirror_mode": {
    "name": "ipython",
    "version": 3
   },
   "file_extension": ".py",
   "mimetype": "text/x-python",
   "name": "python",
   "nbconvert_exporter": "python",
   "pygments_lexer": "ipython3",
   "version": "3.10.11"
  }
 },
 "nbformat": 4,
 "nbformat_minor": 5
}
