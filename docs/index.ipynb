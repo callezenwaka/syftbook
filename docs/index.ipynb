{
 "cells": [
  {
   "cell_type": "markdown",
   "metadata": {},
   "source": [
    "# Glossary\n",
    "\n",
    "This is a place to find the definitions for terms used throughout the lesson notebooks.\n",
    "\n",
    "If any definition is confusing or needs additional details, let us know through the channel or during office hours."
   ]
  },
  {
   "cell_type": "markdown",
   "metadata": {},
   "source": [
    "## Al Dente\n",
    "\n",
    "An Italian term used to describe pasta and rice that are cooked to be firm to the bite."
   ]
  },
  {
   "cell_type": "markdown",
   "metadata": {},
   "source": [
    "## Blanching\n",
    "\n",
    "A cooking process where food is briefly immersed in boiling water and then immediately placed in ice water to stop the cooking process. This technique is used to preserve color, flavor, and texture."
   ]
  },
  {
   "cell_type": "markdown",
   "metadata": {},
   "source": [
    "## Caramelization\n",
    "\n",
    "The process of cooking sugar until it browns, which enhances the flavor and color of the food."
   ]
  },
  {
   "cell_type": "markdown",
   "metadata": {},
   "source": [
    "## Deglazing\n",
    "\n",
    "A cooking technique where a liquid (such as wine, broth, or juice) is added to a hot pan to loosen and dissolve food particles stuck to the bottom, creating a flavorful base for sauces."
   ]
  },
  {
   "cell_type": "markdown",
   "metadata": {},
   "source": [
    "## Emulsify\n",
    "\n",
    "The process of combining two liquids that normally do not mix well, such as oil and water, to form a stable mixture. Commonly done in salad dressings and mayonnaise."
   ]
  },
  {
   "cell_type": "markdown",
   "metadata": {},
   "source": [
    "## Fermentation\n",
    "\n",
    "A metabolic process that converts sugar to acids, gases, or alcohol using microorganisms like yeast or bacteria. It is used in making products like yogurt, beer, wine, and bread."
   ]
  },
  {
   "cell_type": "markdown",
   "metadata": {},
   "source": [
    "## Gluten \n",
    "\n",
    "A protein found in wheat, barley, and rye, which gives dough its elasticity and helps it rise. It is responsible for the chewy texture of baked goods."
   ]
  },
  {
   "cell_type": "markdown",
   "metadata": {},
   "source": [
    "## Infusion\n",
    "\n",
    "The process of steeping an ingredient in a liquid to extract its flavors, such as tea leaves in hot water or herbs in oil."
   ]
  },
  {
   "cell_type": "markdown",
   "metadata": {},
   "source": [
    "## Julienne\n",
    "\n",
    "A technique for cutting vegetables into thin, uniform matchstick-like strips, often used for garnishes or in stir-fries."
   ]
  },
  {
   "cell_type": "markdown",
   "metadata": {},
   "source": [
    "## Kneading\n",
    "\n",
    "A process in bread-making where dough is worked and folded to develop gluten and create a smooth, elastic texture."
   ]
  },
  {
   "cell_type": "markdown",
   "metadata": {},
   "source": [
    "## Lactose\n",
    "\n",
    "A type of sugar found in milk and dairy products. Some people have difficulty digesting lactose, which is known as lactose intolerance."
   ]
  },
  {
   "cell_type": "markdown",
   "metadata": {},
   "source": [
    "## Marinate\n",
    "\n",
    "The process of soaking food, typically meat, in a seasoned liquid before cooking to add flavor and tenderness."
   ]
  },
  {
   "cell_type": "markdown",
   "metadata": {},
   "source": [
    "## Nutraceutical\n",
    "\n",
    "A food or food product that provides health benefits beyond basic nutrition, often containing vitamins, minerals, or other bioactive compounds."
   ]
  },
  {
   "cell_type": "markdown",
   "metadata": {},
   "source": [
    "## Organic\n",
    "\n",
    "Refers to food products that are produced without the use of synthetic pesticides, fertilizers, genetically modified organisms (GMOs), or other artificial additives."
   ]
  },
  {
   "cell_type": "markdown",
   "metadata": {},
   "source": [
    "## Proofing\n",
    "\n",
    "The final rise of shaped bread dough before baking, often done in a warm, humid environment to activate the yeast."
   ]
  },
  {
   "cell_type": "markdown",
   "metadata": {},
   "source": [
    "## Quinoa\n",
    "\n",
    "A high-protein grain that is gluten-free and rich in essential amino acids, vitamins, and minerals. It is often used as a substitute for rice or couscous."
   ]
  },
  {
   "cell_type": "markdown",
   "metadata": {},
   "source": [
    "## Reduction\n",
    "\n",
    "The process of thickening and intensifying the flavor of a liquid (such as a sauce or broth) by simmering or boiling to evaporate excess water."
   ]
  },
  {
   "cell_type": "markdown",
   "metadata": {},
   "source": [
    "## Sauté\n",
    "\n",
    "A cooking method where food is quickly cooked in a small amount of oil or butter over high heat, often in a shallow pan."
   ]
  },
  {
   "cell_type": "markdown",
   "metadata": {},
   "source": [
    "## Umami\n",
    "\n",
    "One of the five basic tastes, often described as savory or meaty. It is found in foods like mushrooms, tomatoes, soy sauce, and aged cheeses."
   ]
  },
  {
   "cell_type": "markdown",
   "metadata": {},
   "source": [
    "## Vinaigrette\n",
    "\n",
    "A type of salad dressing made from oil, vinegar, and seasonings. It can be flavored with herbs, mustard, garlic, and other ingredients."
   ]
  },
  {
   "cell_type": "markdown",
   "metadata": {},
   "source": [
    "## Whisk\n",
    "\n",
    "A cooking utensil used to beat or stir ingredients to incorporate air, often used in baking and making sauces."
   ]
  },
  {
   "cell_type": "markdown",
   "metadata": {},
   "source": [
    "## Zest \n",
    "\n",
    "The outer colored part of the peel of citrus fruits, which contains essential oils and adds flavor to dishes when grated or peeled."
   ]
  },
  {
   "cell_type": "markdown",
   "metadata": {},
   "source": [
    "These glossary entries provide a variety of terms that are essential in the food and cooking domain."
   ]
  }
 ],
 "metadata": {
  "language_info": {
   "name": "python"
  }
 },
 "nbformat": 4,
 "nbformat_minor": 2
}
